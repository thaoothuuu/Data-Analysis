{
 "cells": [
  {
   "cell_type": "markdown",
   "metadata": {},
   "source": [
    "<h1>Credit card fraud detection by logistic regression</h1>"
   ]
  },
  {
   "cell_type": "code",
   "execution_count": 23,
   "metadata": {},
   "outputs": [],
   "source": [
    "import pandas as pd\n",
    "import numpy as np\n",
    "import seaborn as sns\n",
    "import matplotlib.pyplot as plt\n",
    "import statsmodels.api as sm"
   ]
  },
  {
   "cell_type": "code",
   "execution_count": 2,
   "metadata": {},
   "outputs": [
    {
     "data": {
      "text/html": [
       "<div>\n",
       "<style scoped>\n",
       "    .dataframe tbody tr th:only-of-type {\n",
       "        vertical-align: middle;\n",
       "    }\n",
       "\n",
       "    .dataframe tbody tr th {\n",
       "        vertical-align: top;\n",
       "    }\n",
       "\n",
       "    .dataframe thead th {\n",
       "        text-align: right;\n",
       "    }\n",
       "</style>\n",
       "<table border=\"1\" class=\"dataframe\">\n",
       "  <thead>\n",
       "    <tr style=\"text-align: right;\">\n",
       "      <th></th>\n",
       "      <th>Time</th>\n",
       "      <th>V1</th>\n",
       "      <th>V2</th>\n",
       "      <th>V3</th>\n",
       "      <th>V4</th>\n",
       "      <th>V5</th>\n",
       "      <th>V6</th>\n",
       "      <th>V7</th>\n",
       "      <th>V8</th>\n",
       "      <th>V9</th>\n",
       "      <th>...</th>\n",
       "      <th>V21</th>\n",
       "      <th>V22</th>\n",
       "      <th>V23</th>\n",
       "      <th>V24</th>\n",
       "      <th>V25</th>\n",
       "      <th>V26</th>\n",
       "      <th>V27</th>\n",
       "      <th>V28</th>\n",
       "      <th>Amount</th>\n",
       "      <th>Class</th>\n",
       "    </tr>\n",
       "  </thead>\n",
       "  <tbody>\n",
       "    <tr>\n",
       "      <th>0</th>\n",
       "      <td>0.0</td>\n",
       "      <td>-1.359807</td>\n",
       "      <td>-0.072781</td>\n",
       "      <td>2.536347</td>\n",
       "      <td>1.378155</td>\n",
       "      <td>-0.338321</td>\n",
       "      <td>0.462388</td>\n",
       "      <td>0.239599</td>\n",
       "      <td>0.098698</td>\n",
       "      <td>0.363787</td>\n",
       "      <td>...</td>\n",
       "      <td>-0.018307</td>\n",
       "      <td>0.277838</td>\n",
       "      <td>-0.110474</td>\n",
       "      <td>0.066928</td>\n",
       "      <td>0.128539</td>\n",
       "      <td>-0.189115</td>\n",
       "      <td>0.133558</td>\n",
       "      <td>-0.021053</td>\n",
       "      <td>149.62</td>\n",
       "      <td>0</td>\n",
       "    </tr>\n",
       "    <tr>\n",
       "      <th>1</th>\n",
       "      <td>0.0</td>\n",
       "      <td>1.191857</td>\n",
       "      <td>0.266151</td>\n",
       "      <td>0.166480</td>\n",
       "      <td>0.448154</td>\n",
       "      <td>0.060018</td>\n",
       "      <td>-0.082361</td>\n",
       "      <td>-0.078803</td>\n",
       "      <td>0.085102</td>\n",
       "      <td>-0.255425</td>\n",
       "      <td>...</td>\n",
       "      <td>-0.225775</td>\n",
       "      <td>-0.638672</td>\n",
       "      <td>0.101288</td>\n",
       "      <td>-0.339846</td>\n",
       "      <td>0.167170</td>\n",
       "      <td>0.125895</td>\n",
       "      <td>-0.008983</td>\n",
       "      <td>0.014724</td>\n",
       "      <td>2.69</td>\n",
       "      <td>0</td>\n",
       "    </tr>\n",
       "    <tr>\n",
       "      <th>2</th>\n",
       "      <td>1.0</td>\n",
       "      <td>-1.358354</td>\n",
       "      <td>-1.340163</td>\n",
       "      <td>1.773209</td>\n",
       "      <td>0.379780</td>\n",
       "      <td>-0.503198</td>\n",
       "      <td>1.800499</td>\n",
       "      <td>0.791461</td>\n",
       "      <td>0.247676</td>\n",
       "      <td>-1.514654</td>\n",
       "      <td>...</td>\n",
       "      <td>0.247998</td>\n",
       "      <td>0.771679</td>\n",
       "      <td>0.909412</td>\n",
       "      <td>-0.689281</td>\n",
       "      <td>-0.327642</td>\n",
       "      <td>-0.139097</td>\n",
       "      <td>-0.055353</td>\n",
       "      <td>-0.059752</td>\n",
       "      <td>378.66</td>\n",
       "      <td>0</td>\n",
       "    </tr>\n",
       "    <tr>\n",
       "      <th>3</th>\n",
       "      <td>1.0</td>\n",
       "      <td>-0.966272</td>\n",
       "      <td>-0.185226</td>\n",
       "      <td>1.792993</td>\n",
       "      <td>-0.863291</td>\n",
       "      <td>-0.010309</td>\n",
       "      <td>1.247203</td>\n",
       "      <td>0.237609</td>\n",
       "      <td>0.377436</td>\n",
       "      <td>-1.387024</td>\n",
       "      <td>...</td>\n",
       "      <td>-0.108300</td>\n",
       "      <td>0.005274</td>\n",
       "      <td>-0.190321</td>\n",
       "      <td>-1.175575</td>\n",
       "      <td>0.647376</td>\n",
       "      <td>-0.221929</td>\n",
       "      <td>0.062723</td>\n",
       "      <td>0.061458</td>\n",
       "      <td>123.50</td>\n",
       "      <td>0</td>\n",
       "    </tr>\n",
       "    <tr>\n",
       "      <th>4</th>\n",
       "      <td>2.0</td>\n",
       "      <td>-1.158233</td>\n",
       "      <td>0.877737</td>\n",
       "      <td>1.548718</td>\n",
       "      <td>0.403034</td>\n",
       "      <td>-0.407193</td>\n",
       "      <td>0.095921</td>\n",
       "      <td>0.592941</td>\n",
       "      <td>-0.270533</td>\n",
       "      <td>0.817739</td>\n",
       "      <td>...</td>\n",
       "      <td>-0.009431</td>\n",
       "      <td>0.798278</td>\n",
       "      <td>-0.137458</td>\n",
       "      <td>0.141267</td>\n",
       "      <td>-0.206010</td>\n",
       "      <td>0.502292</td>\n",
       "      <td>0.219422</td>\n",
       "      <td>0.215153</td>\n",
       "      <td>69.99</td>\n",
       "      <td>0</td>\n",
       "    </tr>\n",
       "  </tbody>\n",
       "</table>\n",
       "<p>5 rows × 31 columns</p>\n",
       "</div>"
      ],
      "text/plain": [
       "   Time        V1        V2        V3        V4        V5        V6        V7  \\\n",
       "0   0.0 -1.359807 -0.072781  2.536347  1.378155 -0.338321  0.462388  0.239599   \n",
       "1   0.0  1.191857  0.266151  0.166480  0.448154  0.060018 -0.082361 -0.078803   \n",
       "2   1.0 -1.358354 -1.340163  1.773209  0.379780 -0.503198  1.800499  0.791461   \n",
       "3   1.0 -0.966272 -0.185226  1.792993 -0.863291 -0.010309  1.247203  0.237609   \n",
       "4   2.0 -1.158233  0.877737  1.548718  0.403034 -0.407193  0.095921  0.592941   \n",
       "\n",
       "         V8        V9  ...       V21       V22       V23       V24       V25  \\\n",
       "0  0.098698  0.363787  ... -0.018307  0.277838 -0.110474  0.066928  0.128539   \n",
       "1  0.085102 -0.255425  ... -0.225775 -0.638672  0.101288 -0.339846  0.167170   \n",
       "2  0.247676 -1.514654  ...  0.247998  0.771679  0.909412 -0.689281 -0.327642   \n",
       "3  0.377436 -1.387024  ... -0.108300  0.005274 -0.190321 -1.175575  0.647376   \n",
       "4 -0.270533  0.817739  ... -0.009431  0.798278 -0.137458  0.141267 -0.206010   \n",
       "\n",
       "        V26       V27       V28  Amount  Class  \n",
       "0 -0.189115  0.133558 -0.021053  149.62      0  \n",
       "1  0.125895 -0.008983  0.014724    2.69      0  \n",
       "2 -0.139097 -0.055353 -0.059752  378.66      0  \n",
       "3 -0.221929  0.062723  0.061458  123.50      0  \n",
       "4  0.502292  0.219422  0.215153   69.99      0  \n",
       "\n",
       "[5 rows x 31 columns]"
      ]
     },
     "execution_count": 2,
     "metadata": {},
     "output_type": "execute_result"
    }
   ],
   "source": [
    "card = pd.read_csv('creditcard.csv')\n",
    "card.head()"
   ]
  },
  {
   "cell_type": "code",
   "execution_count": 3,
   "metadata": {},
   "outputs": [
    {
     "name": "stdout",
     "output_type": "stream",
     "text": [
      "<class 'pandas.core.frame.DataFrame'>\n",
      "RangeIndex: 284807 entries, 0 to 284806\n",
      "Data columns (total 31 columns):\n",
      " #   Column  Non-Null Count   Dtype  \n",
      "---  ------  --------------   -----  \n",
      " 0   Time    284807 non-null  float64\n",
      " 1   V1      284807 non-null  float64\n",
      " 2   V2      284807 non-null  float64\n",
      " 3   V3      284807 non-null  float64\n",
      " 4   V4      284807 non-null  float64\n",
      " 5   V5      284807 non-null  float64\n",
      " 6   V6      284807 non-null  float64\n",
      " 7   V7      284807 non-null  float64\n",
      " 8   V8      284807 non-null  float64\n",
      " 9   V9      284807 non-null  float64\n",
      " 10  V10     284807 non-null  float64\n",
      " 11  V11     284807 non-null  float64\n",
      " 12  V12     284807 non-null  float64\n",
      " 13  V13     284807 non-null  float64\n",
      " 14  V14     284807 non-null  float64\n",
      " 15  V15     284807 non-null  float64\n",
      " 16  V16     284807 non-null  float64\n",
      " 17  V17     284807 non-null  float64\n",
      " 18  V18     284807 non-null  float64\n",
      " 19  V19     284807 non-null  float64\n",
      " 20  V20     284807 non-null  float64\n",
      " 21  V21     284807 non-null  float64\n",
      " 22  V22     284807 non-null  float64\n",
      " 23  V23     284807 non-null  float64\n",
      " 24  V24     284807 non-null  float64\n",
      " 25  V25     284807 non-null  float64\n",
      " 26  V26     284807 non-null  float64\n",
      " 27  V27     284807 non-null  float64\n",
      " 28  V28     284807 non-null  float64\n",
      " 29  Amount  284807 non-null  float64\n",
      " 30  Class   284807 non-null  int64  \n",
      "dtypes: float64(30), int64(1)\n",
      "memory usage: 67.4 MB\n"
     ]
    }
   ],
   "source": [
    "card.info()"
   ]
  },
  {
   "cell_type": "code",
   "execution_count": 4,
   "metadata": {},
   "outputs": [
    {
     "data": {
      "text/html": [
       "<div>\n",
       "<style scoped>\n",
       "    .dataframe tbody tr th:only-of-type {\n",
       "        vertical-align: middle;\n",
       "    }\n",
       "\n",
       "    .dataframe tbody tr th {\n",
       "        vertical-align: top;\n",
       "    }\n",
       "\n",
       "    .dataframe thead th {\n",
       "        text-align: right;\n",
       "    }\n",
       "</style>\n",
       "<table border=\"1\" class=\"dataframe\">\n",
       "  <thead>\n",
       "    <tr style=\"text-align: right;\">\n",
       "      <th></th>\n",
       "      <th>Time</th>\n",
       "      <th>V1</th>\n",
       "      <th>V2</th>\n",
       "      <th>V3</th>\n",
       "      <th>V4</th>\n",
       "      <th>V5</th>\n",
       "      <th>V6</th>\n",
       "      <th>V7</th>\n",
       "      <th>V8</th>\n",
       "      <th>V9</th>\n",
       "      <th>...</th>\n",
       "      <th>V21</th>\n",
       "      <th>V22</th>\n",
       "      <th>V23</th>\n",
       "      <th>V24</th>\n",
       "      <th>V25</th>\n",
       "      <th>V26</th>\n",
       "      <th>V27</th>\n",
       "      <th>V28</th>\n",
       "      <th>Amount</th>\n",
       "      <th>Class</th>\n",
       "    </tr>\n",
       "  </thead>\n",
       "  <tbody>\n",
       "    <tr>\n",
       "      <th>count</th>\n",
       "      <td>284807.000000</td>\n",
       "      <td>2.848070e+05</td>\n",
       "      <td>2.848070e+05</td>\n",
       "      <td>2.848070e+05</td>\n",
       "      <td>2.848070e+05</td>\n",
       "      <td>2.848070e+05</td>\n",
       "      <td>2.848070e+05</td>\n",
       "      <td>2.848070e+05</td>\n",
       "      <td>2.848070e+05</td>\n",
       "      <td>2.848070e+05</td>\n",
       "      <td>...</td>\n",
       "      <td>2.848070e+05</td>\n",
       "      <td>2.848070e+05</td>\n",
       "      <td>2.848070e+05</td>\n",
       "      <td>2.848070e+05</td>\n",
       "      <td>2.848070e+05</td>\n",
       "      <td>2.848070e+05</td>\n",
       "      <td>2.848070e+05</td>\n",
       "      <td>2.848070e+05</td>\n",
       "      <td>284807.000000</td>\n",
       "      <td>284807.000000</td>\n",
       "    </tr>\n",
       "    <tr>\n",
       "      <th>mean</th>\n",
       "      <td>94813.859575</td>\n",
       "      <td>1.168375e-15</td>\n",
       "      <td>3.416908e-16</td>\n",
       "      <td>-1.379537e-15</td>\n",
       "      <td>2.074095e-15</td>\n",
       "      <td>9.604066e-16</td>\n",
       "      <td>1.487313e-15</td>\n",
       "      <td>-5.556467e-16</td>\n",
       "      <td>1.213481e-16</td>\n",
       "      <td>-2.406331e-15</td>\n",
       "      <td>...</td>\n",
       "      <td>1.654067e-16</td>\n",
       "      <td>-3.568593e-16</td>\n",
       "      <td>2.578648e-16</td>\n",
       "      <td>4.473266e-15</td>\n",
       "      <td>5.340915e-16</td>\n",
       "      <td>1.683437e-15</td>\n",
       "      <td>-3.660091e-16</td>\n",
       "      <td>-1.227390e-16</td>\n",
       "      <td>88.349619</td>\n",
       "      <td>0.001727</td>\n",
       "    </tr>\n",
       "    <tr>\n",
       "      <th>std</th>\n",
       "      <td>47488.145955</td>\n",
       "      <td>1.958696e+00</td>\n",
       "      <td>1.651309e+00</td>\n",
       "      <td>1.516255e+00</td>\n",
       "      <td>1.415869e+00</td>\n",
       "      <td>1.380247e+00</td>\n",
       "      <td>1.332271e+00</td>\n",
       "      <td>1.237094e+00</td>\n",
       "      <td>1.194353e+00</td>\n",
       "      <td>1.098632e+00</td>\n",
       "      <td>...</td>\n",
       "      <td>7.345240e-01</td>\n",
       "      <td>7.257016e-01</td>\n",
       "      <td>6.244603e-01</td>\n",
       "      <td>6.056471e-01</td>\n",
       "      <td>5.212781e-01</td>\n",
       "      <td>4.822270e-01</td>\n",
       "      <td>4.036325e-01</td>\n",
       "      <td>3.300833e-01</td>\n",
       "      <td>250.120109</td>\n",
       "      <td>0.041527</td>\n",
       "    </tr>\n",
       "    <tr>\n",
       "      <th>min</th>\n",
       "      <td>0.000000</td>\n",
       "      <td>-5.640751e+01</td>\n",
       "      <td>-7.271573e+01</td>\n",
       "      <td>-4.832559e+01</td>\n",
       "      <td>-5.683171e+00</td>\n",
       "      <td>-1.137433e+02</td>\n",
       "      <td>-2.616051e+01</td>\n",
       "      <td>-4.355724e+01</td>\n",
       "      <td>-7.321672e+01</td>\n",
       "      <td>-1.343407e+01</td>\n",
       "      <td>...</td>\n",
       "      <td>-3.483038e+01</td>\n",
       "      <td>-1.093314e+01</td>\n",
       "      <td>-4.480774e+01</td>\n",
       "      <td>-2.836627e+00</td>\n",
       "      <td>-1.029540e+01</td>\n",
       "      <td>-2.604551e+00</td>\n",
       "      <td>-2.256568e+01</td>\n",
       "      <td>-1.543008e+01</td>\n",
       "      <td>0.000000</td>\n",
       "      <td>0.000000</td>\n",
       "    </tr>\n",
       "    <tr>\n",
       "      <th>25%</th>\n",
       "      <td>54201.500000</td>\n",
       "      <td>-9.203734e-01</td>\n",
       "      <td>-5.985499e-01</td>\n",
       "      <td>-8.903648e-01</td>\n",
       "      <td>-8.486401e-01</td>\n",
       "      <td>-6.915971e-01</td>\n",
       "      <td>-7.682956e-01</td>\n",
       "      <td>-5.540759e-01</td>\n",
       "      <td>-2.086297e-01</td>\n",
       "      <td>-6.430976e-01</td>\n",
       "      <td>...</td>\n",
       "      <td>-2.283949e-01</td>\n",
       "      <td>-5.423504e-01</td>\n",
       "      <td>-1.618463e-01</td>\n",
       "      <td>-3.545861e-01</td>\n",
       "      <td>-3.171451e-01</td>\n",
       "      <td>-3.269839e-01</td>\n",
       "      <td>-7.083953e-02</td>\n",
       "      <td>-5.295979e-02</td>\n",
       "      <td>5.600000</td>\n",
       "      <td>0.000000</td>\n",
       "    </tr>\n",
       "    <tr>\n",
       "      <th>50%</th>\n",
       "      <td>84692.000000</td>\n",
       "      <td>1.810880e-02</td>\n",
       "      <td>6.548556e-02</td>\n",
       "      <td>1.798463e-01</td>\n",
       "      <td>-1.984653e-02</td>\n",
       "      <td>-5.433583e-02</td>\n",
       "      <td>-2.741871e-01</td>\n",
       "      <td>4.010308e-02</td>\n",
       "      <td>2.235804e-02</td>\n",
       "      <td>-5.142873e-02</td>\n",
       "      <td>...</td>\n",
       "      <td>-2.945017e-02</td>\n",
       "      <td>6.781943e-03</td>\n",
       "      <td>-1.119293e-02</td>\n",
       "      <td>4.097606e-02</td>\n",
       "      <td>1.659350e-02</td>\n",
       "      <td>-5.213911e-02</td>\n",
       "      <td>1.342146e-03</td>\n",
       "      <td>1.124383e-02</td>\n",
       "      <td>22.000000</td>\n",
       "      <td>0.000000</td>\n",
       "    </tr>\n",
       "    <tr>\n",
       "      <th>75%</th>\n",
       "      <td>139320.500000</td>\n",
       "      <td>1.315642e+00</td>\n",
       "      <td>8.037239e-01</td>\n",
       "      <td>1.027196e+00</td>\n",
       "      <td>7.433413e-01</td>\n",
       "      <td>6.119264e-01</td>\n",
       "      <td>3.985649e-01</td>\n",
       "      <td>5.704361e-01</td>\n",
       "      <td>3.273459e-01</td>\n",
       "      <td>5.971390e-01</td>\n",
       "      <td>...</td>\n",
       "      <td>1.863772e-01</td>\n",
       "      <td>5.285536e-01</td>\n",
       "      <td>1.476421e-01</td>\n",
       "      <td>4.395266e-01</td>\n",
       "      <td>3.507156e-01</td>\n",
       "      <td>2.409522e-01</td>\n",
       "      <td>9.104512e-02</td>\n",
       "      <td>7.827995e-02</td>\n",
       "      <td>77.165000</td>\n",
       "      <td>0.000000</td>\n",
       "    </tr>\n",
       "    <tr>\n",
       "      <th>max</th>\n",
       "      <td>172792.000000</td>\n",
       "      <td>2.454930e+00</td>\n",
       "      <td>2.205773e+01</td>\n",
       "      <td>9.382558e+00</td>\n",
       "      <td>1.687534e+01</td>\n",
       "      <td>3.480167e+01</td>\n",
       "      <td>7.330163e+01</td>\n",
       "      <td>1.205895e+02</td>\n",
       "      <td>2.000721e+01</td>\n",
       "      <td>1.559499e+01</td>\n",
       "      <td>...</td>\n",
       "      <td>2.720284e+01</td>\n",
       "      <td>1.050309e+01</td>\n",
       "      <td>2.252841e+01</td>\n",
       "      <td>4.584549e+00</td>\n",
       "      <td>7.519589e+00</td>\n",
       "      <td>3.517346e+00</td>\n",
       "      <td>3.161220e+01</td>\n",
       "      <td>3.384781e+01</td>\n",
       "      <td>25691.160000</td>\n",
       "      <td>1.000000</td>\n",
       "    </tr>\n",
       "  </tbody>\n",
       "</table>\n",
       "<p>8 rows × 31 columns</p>\n",
       "</div>"
      ],
      "text/plain": [
       "                Time            V1            V2            V3            V4  \\\n",
       "count  284807.000000  2.848070e+05  2.848070e+05  2.848070e+05  2.848070e+05   \n",
       "mean    94813.859575  1.168375e-15  3.416908e-16 -1.379537e-15  2.074095e-15   \n",
       "std     47488.145955  1.958696e+00  1.651309e+00  1.516255e+00  1.415869e+00   \n",
       "min         0.000000 -5.640751e+01 -7.271573e+01 -4.832559e+01 -5.683171e+00   \n",
       "25%     54201.500000 -9.203734e-01 -5.985499e-01 -8.903648e-01 -8.486401e-01   \n",
       "50%     84692.000000  1.810880e-02  6.548556e-02  1.798463e-01 -1.984653e-02   \n",
       "75%    139320.500000  1.315642e+00  8.037239e-01  1.027196e+00  7.433413e-01   \n",
       "max    172792.000000  2.454930e+00  2.205773e+01  9.382558e+00  1.687534e+01   \n",
       "\n",
       "                 V5            V6            V7            V8            V9  \\\n",
       "count  2.848070e+05  2.848070e+05  2.848070e+05  2.848070e+05  2.848070e+05   \n",
       "mean   9.604066e-16  1.487313e-15 -5.556467e-16  1.213481e-16 -2.406331e-15   \n",
       "std    1.380247e+00  1.332271e+00  1.237094e+00  1.194353e+00  1.098632e+00   \n",
       "min   -1.137433e+02 -2.616051e+01 -4.355724e+01 -7.321672e+01 -1.343407e+01   \n",
       "25%   -6.915971e-01 -7.682956e-01 -5.540759e-01 -2.086297e-01 -6.430976e-01   \n",
       "50%   -5.433583e-02 -2.741871e-01  4.010308e-02  2.235804e-02 -5.142873e-02   \n",
       "75%    6.119264e-01  3.985649e-01  5.704361e-01  3.273459e-01  5.971390e-01   \n",
       "max    3.480167e+01  7.330163e+01  1.205895e+02  2.000721e+01  1.559499e+01   \n",
       "\n",
       "       ...           V21           V22           V23           V24  \\\n",
       "count  ...  2.848070e+05  2.848070e+05  2.848070e+05  2.848070e+05   \n",
       "mean   ...  1.654067e-16 -3.568593e-16  2.578648e-16  4.473266e-15   \n",
       "std    ...  7.345240e-01  7.257016e-01  6.244603e-01  6.056471e-01   \n",
       "min    ... -3.483038e+01 -1.093314e+01 -4.480774e+01 -2.836627e+00   \n",
       "25%    ... -2.283949e-01 -5.423504e-01 -1.618463e-01 -3.545861e-01   \n",
       "50%    ... -2.945017e-02  6.781943e-03 -1.119293e-02  4.097606e-02   \n",
       "75%    ...  1.863772e-01  5.285536e-01  1.476421e-01  4.395266e-01   \n",
       "max    ...  2.720284e+01  1.050309e+01  2.252841e+01  4.584549e+00   \n",
       "\n",
       "                V25           V26           V27           V28         Amount  \\\n",
       "count  2.848070e+05  2.848070e+05  2.848070e+05  2.848070e+05  284807.000000   \n",
       "mean   5.340915e-16  1.683437e-15 -3.660091e-16 -1.227390e-16      88.349619   \n",
       "std    5.212781e-01  4.822270e-01  4.036325e-01  3.300833e-01     250.120109   \n",
       "min   -1.029540e+01 -2.604551e+00 -2.256568e+01 -1.543008e+01       0.000000   \n",
       "25%   -3.171451e-01 -3.269839e-01 -7.083953e-02 -5.295979e-02       5.600000   \n",
       "50%    1.659350e-02 -5.213911e-02  1.342146e-03  1.124383e-02      22.000000   \n",
       "75%    3.507156e-01  2.409522e-01  9.104512e-02  7.827995e-02      77.165000   \n",
       "max    7.519589e+00  3.517346e+00  3.161220e+01  3.384781e+01   25691.160000   \n",
       "\n",
       "               Class  \n",
       "count  284807.000000  \n",
       "mean        0.001727  \n",
       "std         0.041527  \n",
       "min         0.000000  \n",
       "25%         0.000000  \n",
       "50%         0.000000  \n",
       "75%         0.000000  \n",
       "max         1.000000  \n",
       "\n",
       "[8 rows x 31 columns]"
      ]
     },
     "execution_count": 4,
     "metadata": {},
     "output_type": "execute_result"
    }
   ],
   "source": [
    "card.describe()"
   ]
  },
  {
   "cell_type": "markdown",
   "metadata": {},
   "source": [
    "<h3>Data quality check - missing values"
   ]
  },
  {
   "cell_type": "code",
   "execution_count": 6,
   "metadata": {},
   "outputs": [
    {
     "data": {
      "text/plain": [
       "Time      0.0\n",
       "V28       0.0\n",
       "V27       0.0\n",
       "V26       0.0\n",
       "V25       0.0\n",
       "V24       0.0\n",
       "V23       0.0\n",
       "V22       0.0\n",
       "V21       0.0\n",
       "V20       0.0\n",
       "V19       0.0\n",
       "V18       0.0\n",
       "V17       0.0\n",
       "V16       0.0\n",
       "Amount    0.0\n",
       "V15       0.0\n",
       "V13       0.0\n",
       "V12       0.0\n",
       "V11       0.0\n",
       "V10       0.0\n",
       "V9        0.0\n",
       "V8        0.0\n",
       "V7        0.0\n",
       "V6        0.0\n",
       "V5        0.0\n",
       "V4        0.0\n",
       "V3        0.0\n",
       "V2        0.0\n",
       "V1        0.0\n",
       "V14       0.0\n",
       "Class     0.0\n",
       "dtype: float64"
      ]
     },
     "execution_count": 6,
     "metadata": {},
     "output_type": "execute_result"
    }
   ],
   "source": [
    "round(100 * (card.isnull().sum() / len(card)), 2).sort_values(ascending = True)"
   ]
  },
  {
   "cell_type": "code",
   "execution_count": 7,
   "metadata": {},
   "outputs": [
    {
     "data": {
      "text/plain": [
       "0         0.0\n",
       "189861    0.0\n",
       "189862    0.0\n",
       "189863    0.0\n",
       "189864    0.0\n",
       "         ... \n",
       "94933     0.0\n",
       "94932     0.0\n",
       "94931     0.0\n",
       "94937     0.0\n",
       "284806    0.0\n",
       "Length: 284807, dtype: float64"
      ]
     },
     "execution_count": 7,
     "metadata": {},
     "output_type": "execute_result"
    }
   ],
   "source": [
    "round(100 * (card.isnull().sum(axis=1) / len(card)), 2).sort_values(ascending = True)"
   ]
  },
  {
   "cell_type": "markdown",
   "metadata": {},
   "source": [
    "<h3>Duplicate check"
   ]
  },
  {
   "cell_type": "code",
   "execution_count": 8,
   "metadata": {},
   "outputs": [],
   "source": [
    "card_d = card.copy()\n",
    "card_d.drop_duplicates(subset=None, inplace=True)"
   ]
  },
  {
   "cell_type": "code",
   "execution_count": 10,
   "metadata": {},
   "outputs": [
    {
     "data": {
      "text/plain": [
       "(284807, 31)"
      ]
     },
     "execution_count": 10,
     "metadata": {},
     "output_type": "execute_result"
    }
   ],
   "source": [
    "card.shape"
   ]
  },
  {
   "cell_type": "code",
   "execution_count": 11,
   "metadata": {},
   "outputs": [
    {
     "data": {
      "text/plain": [
       "(283726, 31)"
      ]
     },
     "execution_count": 11,
     "metadata": {},
     "output_type": "execute_result"
    }
   ],
   "source": [
    "card_d.shape"
   ]
  },
  {
   "cell_type": "code",
   "execution_count": 12,
   "metadata": {},
   "outputs": [
    {
     "data": {
      "text/plain": [
       "(283726, 31)"
      ]
     },
     "execution_count": 12,
     "metadata": {},
     "output_type": "execute_result"
    }
   ],
   "source": [
    "card = card_d\n",
    "card.shape"
   ]
  },
  {
   "cell_type": "code",
   "execution_count": 13,
   "metadata": {},
   "outputs": [],
   "source": [
    "del card_d"
   ]
  },
  {
   "cell_type": "markdown",
   "metadata": {},
   "source": [
    "<h2>Exploratory data analysis "
   ]
  },
  {
   "cell_type": "code",
   "execution_count": 17,
   "metadata": {},
   "outputs": [
    {
     "name": "stderr",
     "output_type": "stream",
     "text": [
      "C:\\Users\\PC\\AppData\\Local\\Temp/ipykernel_13704/893365225.py:5: UserWarning: To output multiple subplots, the figure containing the passed axes is being cleared\n",
      "  dataframe[features].hist(bins=20, ax=ax, facecolor='midnightblue')\n"
     ]
    },
    {
     "data": {
      "image/png": "[encoded data removed]",
      "text/plain": [
       "<Figure size 1440x1440 with 36 Axes>"
      ]
     },
     "metadata": {
      "needs_background": "light"
     },
     "output_type": "display_data"
    }
   ],
   "source": [
    "def draw_histogram(dataframe, features, rows, cols):\n",
    "    fig = plt.figure(figsize=(20,20))\n",
    "    for i, feature in enumerate(features):\n",
    "        ax = fig.add_subplot(rows, cols, i+1)\n",
    "        dataframe[features].hist(bins=20, ax=ax, facecolor='midnightblue')\n",
    "        ax.set_title(feature + 'Distribution', color='DarkRed')\n",
    "        ax.set_yscale('log')\n",
    "    fig.tight_layout()\n",
    "    plt.show()\n",
    "\n",
    "draw_histogram(card, card.columns, 8, 4)\n"
   ]
  },
  {
   "cell_type": "code",
   "execution_count": 18,
   "metadata": {},
   "outputs": [
    {
     "data": {
      "text/plain": [
       "0    283253\n",
       "1       473\n",
       "Name: Class, dtype: int64"
      ]
     },
     "execution_count": 18,
     "metadata": {},
     "output_type": "execute_result"
    }
   ],
   "source": [
    "card.Class.value_counts()"
   ]
  },
  {
   "cell_type": "code",
   "execution_count": 19,
   "metadata": {},
   "outputs": [
    {
     "data": {
      "image/png": "[encoded data removed]",
      "text/plain": [
       "<Figure size 432x288 with 1 Axes>"
      ]
     },
     "metadata": {
      "needs_background": "light"
     },
     "output_type": "display_data"
    }
   ],
   "source": [
    "ax = sns.countplot(x='Class', data=card)\n",
    "ax.set_yscale('log')"
   ]
  },
  {
   "cell_type": "code",
   "execution_count": 20,
   "metadata": {},
   "outputs": [],
   "source": [
    "estimators = ['V1','V2','V3','V4','V5', 'V6','V7','V8','V9','V10',\n",
    "            'V11', 'V12','V13','V14','V15','V16','V17','V18','V19','V20',\n",
    "            'V21','V22','V23','V24','V25','V26','V27','V28','Amount']\n",
    "\n",
    "X1= card[estimators]\n",
    "y = card['Class']"
   ]
  },
  {
   "cell_type": "code",
   "execution_count": 21,
   "metadata": {},
   "outputs": [
    {
     "data": {
      "text/plain": [
       "Index(['V1', 'V2', 'V3', 'V4', 'V5', 'V6', 'V7', 'V8', 'V9', 'V10', 'V11',\n",
       "       'V12', 'V13', 'V14', 'V15', 'V16', 'V17', 'V18', 'V19', 'V20', 'V21',\n",
       "       'V22', 'V23', 'V24', 'V25', 'V26', 'V27', 'V28'],\n",
       "      dtype='object')"
      ]
     },
     "execution_count": 21,
     "metadata": {},
     "output_type": "execute_result"
    }
   ],
   "source": [
    "col = X1.columns[:-1]\n",
    "col"
   ]
  },
  {
   "cell_type": "code",
   "execution_count": 24,
   "metadata": {},
   "outputs": [
    {
     "name": "stdout",
     "output_type": "stream",
     "text": [
      "Optimization terminated successfully.\n",
      "         Current function value: 0.003927\n",
      "         Iterations 13\n"
     ]
    }
   ],
   "source": [
    "X = sm.add_constant(X1)\n",
    "reg_logit = sm.Logit(y, X)\n",
    "result_log = reg_logit.fit()"
   ]
  },
  {
   "cell_type": "code",
   "execution_count": 25,
   "metadata": {},
   "outputs": [
    {
     "data": {
      "text/html": [
       "<table class=\"simpletable\">\n",
       "<caption>Logit Regression Results</caption>\n",
       "<tr>\n",
       "  <th>Dep. Variable:</th>         <td>Class</td>      <th>  No. Observations:  </th>  <td>283726</td> \n",
       "</tr>\n",
       "<tr>\n",
       "  <th>Model:</th>                 <td>Logit</td>      <th>  Df Residuals:      </th>  <td>283696</td> \n",
       "</tr>\n",
       "<tr>\n",
       "  <th>Method:</th>                 <td>MLE</td>       <th>  Df Model:          </th>  <td>    29</td> \n",
       "</tr>\n",
       "<tr>\n",
       "  <th>Date:</th>            <td>Wed, 19 Jan 2022</td> <th>  Pseudo R-squ.:     </th>  <td>0.6815</td> \n",
       "</tr>\n",
       "<tr>\n",
       "  <th>Time:</th>                <td>19:06:18</td>     <th>  Log-Likelihood:    </th> <td> -1114.1</td>\n",
       "</tr>\n",
       "<tr>\n",
       "  <th>converged:</th>             <td>True</td>       <th>  LL-Null:           </th> <td> -3498.2</td>\n",
       "</tr>\n",
       "<tr>\n",
       "  <th>Covariance Type:</th>     <td>nonrobust</td>    <th>  LLR p-value:       </th>  <td> 0.000</td> \n",
       "</tr>\n",
       "</table>\n",
       "<table class=\"simpletable\">\n",
       "<tr>\n",
       "     <td></td>       <th>coef</th>     <th>std err</th>      <th>z</th>      <th>P>|z|</th>  <th>[0.025</th>    <th>0.975]</th>  \n",
       "</tr>\n",
       "<tr>\n",
       "  <th>const</th>  <td>   -8.7313</td> <td>    0.152</td> <td>  -57.566</td> <td> 0.000</td> <td>   -9.029</td> <td>   -8.434</td>\n",
       "</tr>\n",
       "<tr>\n",
       "  <th>V1</th>     <td>    0.0842</td> <td>    0.041</td> <td>    2.029</td> <td> 0.042</td> <td>    0.003</td> <td>    0.166</td>\n",
       "</tr>\n",
       "<tr>\n",
       "  <th>V2</th>     <td>    0.0142</td> <td>    0.058</td> <td>    0.244</td> <td> 0.807</td> <td>   -0.099</td> <td>    0.128</td>\n",
       "</tr>\n",
       "<tr>\n",
       "  <th>V3</th>     <td>    0.0371</td> <td>    0.046</td> <td>    0.814</td> <td> 0.416</td> <td>   -0.052</td> <td>    0.126</td>\n",
       "</tr>\n",
       "<tr>\n",
       "  <th>V4</th>     <td>    0.7085</td> <td>    0.074</td> <td>    9.606</td> <td> 0.000</td> <td>    0.564</td> <td>    0.853</td>\n",
       "</tr>\n",
       "<tr>\n",
       "  <th>V5</th>     <td>    0.1034</td> <td>    0.066</td> <td>    1.576</td> <td> 0.115</td> <td>   -0.025</td> <td>    0.232</td>\n",
       "</tr>\n",
       "<tr>\n",
       "  <th>V6</th>     <td>   -0.1269</td> <td>    0.076</td> <td>   -1.664</td> <td> 0.096</td> <td>   -0.276</td> <td>    0.023</td>\n",
       "</tr>\n",
       "<tr>\n",
       "  <th>V7</th>     <td>   -0.1085</td> <td>    0.066</td> <td>   -1.640</td> <td> 0.101</td> <td>   -0.238</td> <td>    0.021</td>\n",
       "</tr>\n",
       "<tr>\n",
       "  <th>V8</th>     <td>   -0.1713</td> <td>    0.031</td> <td>   -5.578</td> <td> 0.000</td> <td>   -0.231</td> <td>   -0.111</td>\n",
       "</tr>\n",
       "<tr>\n",
       "  <th>V9</th>     <td>   -0.2598</td> <td>    0.110</td> <td>   -2.370</td> <td> 0.018</td> <td>   -0.475</td> <td>   -0.045</td>\n",
       "</tr>\n",
       "<tr>\n",
       "  <th>V10</th>    <td>   -0.8242</td> <td>    0.097</td> <td>   -8.501</td> <td> 0.000</td> <td>   -1.014</td> <td>   -0.634</td>\n",
       "</tr>\n",
       "<tr>\n",
       "  <th>V11</th>    <td>   -0.0090</td> <td>    0.076</td> <td>   -0.118</td> <td> 0.906</td> <td>   -0.158</td> <td>    0.140</td>\n",
       "</tr>\n",
       "<tr>\n",
       "  <th>V12</th>    <td>    0.0625</td> <td>    0.086</td> <td>    0.725</td> <td> 0.468</td> <td>   -0.106</td> <td>    0.231</td>\n",
       "</tr>\n",
       "<tr>\n",
       "  <th>V13</th>    <td>   -0.3147</td> <td>    0.081</td> <td>   -3.868</td> <td> 0.000</td> <td>   -0.474</td> <td>   -0.155</td>\n",
       "</tr>\n",
       "<tr>\n",
       "  <th>V14</th>    <td>   -0.5361</td> <td>    0.062</td> <td>   -8.684</td> <td> 0.000</td> <td>   -0.657</td> <td>   -0.415</td>\n",
       "</tr>\n",
       "<tr>\n",
       "  <th>V15</th>    <td>   -0.0922</td> <td>    0.084</td> <td>   -1.095</td> <td> 0.274</td> <td>   -0.257</td> <td>    0.073</td>\n",
       "</tr>\n",
       "<tr>\n",
       "  <th>V16</th>    <td>   -0.2018</td> <td>    0.125</td> <td>   -1.616</td> <td> 0.106</td> <td>   -0.447</td> <td>    0.043</td>\n",
       "</tr>\n",
       "<tr>\n",
       "  <th>V17</th>    <td>    0.0097</td> <td>    0.069</td> <td>    0.142</td> <td> 0.887</td> <td>   -0.125</td> <td>    0.145</td>\n",
       "</tr>\n",
       "<tr>\n",
       "  <th>V18</th>    <td>   -0.0375</td> <td>    0.128</td> <td>   -0.294</td> <td> 0.769</td> <td>   -0.288</td> <td>    0.213</td>\n",
       "</tr>\n",
       "<tr>\n",
       "  <th>V19</th>    <td>    0.0795</td> <td>    0.096</td> <td>    0.828</td> <td> 0.408</td> <td>   -0.109</td> <td>    0.268</td>\n",
       "</tr>\n",
       "<tr>\n",
       "  <th>V20</th>    <td>   -0.4510</td> <td>    0.081</td> <td>   -5.541</td> <td> 0.000</td> <td>   -0.611</td> <td>   -0.291</td>\n",
       "</tr>\n",
       "<tr>\n",
       "  <th>V21</th>    <td>    0.3730</td> <td>    0.058</td> <td>    6.416</td> <td> 0.000</td> <td>    0.259</td> <td>    0.487</td>\n",
       "</tr>\n",
       "<tr>\n",
       "  <th>V22</th>    <td>    0.5874</td> <td>    0.129</td> <td>    4.566</td> <td> 0.000</td> <td>    0.335</td> <td>    0.840</td>\n",
       "</tr>\n",
       "<tr>\n",
       "  <th>V23</th>    <td>   -0.0975</td> <td>    0.058</td> <td>   -1.681</td> <td> 0.093</td> <td>   -0.211</td> <td>    0.016</td>\n",
       "</tr>\n",
       "<tr>\n",
       "  <th>V24</th>    <td>    0.1278</td> <td>    0.149</td> <td>    0.856</td> <td> 0.392</td> <td>   -0.165</td> <td>    0.421</td>\n",
       "</tr>\n",
       "<tr>\n",
       "  <th>V25</th>    <td>   -0.0180</td> <td>    0.131</td> <td>   -0.137</td> <td> 0.891</td> <td>   -0.275</td> <td>    0.239</td>\n",
       "</tr>\n",
       "<tr>\n",
       "  <th>V26</th>    <td>   -0.0131</td> <td>    0.190</td> <td>   -0.069</td> <td> 0.945</td> <td>   -0.385</td> <td>    0.359</td>\n",
       "</tr>\n",
       "<tr>\n",
       "  <th>V27</th>    <td>   -0.8134</td> <td>    0.122</td> <td>   -6.658</td> <td> 0.000</td> <td>   -1.053</td> <td>   -0.574</td>\n",
       "</tr>\n",
       "<tr>\n",
       "  <th>V28</th>    <td>   -0.2979</td> <td>    0.089</td> <td>   -3.343</td> <td> 0.001</td> <td>   -0.473</td> <td>   -0.123</td>\n",
       "</tr>\n",
       "<tr>\n",
       "  <th>Amount</th> <td>    0.0009</td> <td>    0.000</td> <td>    2.465</td> <td> 0.014</td> <td>    0.000</td> <td>    0.002</td>\n",
       "</tr>\n",
       "</table><br/><br/>Possibly complete quasi-separation: A fraction 0.31 of observations can be<br/>perfectly predicted. This might indicate that there is complete<br/>quasi-separation. In this case some parameters will not be identified."
      ],
      "text/plain": [
       "<class 'statsmodels.iolib.summary.Summary'>\n",
       "\"\"\"\n",
       "                           Logit Regression Results                           \n",
       "==============================================================================\n",
       "Dep. Variable:                  Class   No. Observations:               283726\n",
       "Model:                          Logit   Df Residuals:                   283696\n",
       "Method:                           MLE   Df Model:                           29\n",
       "Date:                Wed, 19 Jan 2022   Pseudo R-squ.:                  0.6815\n",
       "Time:                        19:06:18   Log-Likelihood:                -1114.1\n",
       "converged:                       True   LL-Null:                       -3498.2\n",
       "Covariance Type:            nonrobust   LLR p-value:                     0.000\n",
       "==============================================================================\n",
       "                 coef    std err          z      P>|z|      [0.025      0.975]\n",
       "------------------------------------------------------------------------------\n",
       "const         -8.7313      0.152    -57.566      0.000      -9.029      -8.434\n",
       "V1             0.0842      0.041      2.029      0.042       0.003       0.166\n",
       "V2             0.0142      0.058      0.244      0.807      -0.099       0.128\n",
       "V3             0.0371      0.046      0.814      0.416      -0.052       0.126\n",
       "V4             0.7085      0.074      9.606      0.000       0.564       0.853\n",
       "V5             0.1034      0.066      1.576      0.115      -0.025       0.232\n",
       "V6            -0.1269      0.076     -1.664      0.096      -0.276       0.023\n",
       "V7            -0.1085      0.066     -1.640      0.101      -0.238       0.021\n",
       "V8            -0.1713      0.031     -5.578      0.000      -0.231      -0.111\n",
       "V9            -0.2598      0.110     -2.370      0.018      -0.475      -0.045\n",
       "V10           -0.8242      0.097     -8.501      0.000      -1.014      -0.634\n",
       "V11           -0.0090      0.076     -0.118      0.906      -0.158       0.140\n",
       "V12            0.0625      0.086      0.725      0.468      -0.106       0.231\n",
       "V13           -0.3147      0.081     -3.868      0.000      -0.474      -0.155\n",
       "V14           -0.5361      0.062     -8.684      0.000      -0.657      -0.415\n",
       "V15           -0.0922      0.084     -1.095      0.274      -0.257       0.073\n",
       "V16           -0.2018      0.125     -1.616      0.106      -0.447       0.043\n",
       "V17            0.0097      0.069      0.142      0.887      -0.125       0.145\n",
       "V18           -0.0375      0.128     -0.294      0.769      -0.288       0.213\n",
       "V19            0.0795      0.096      0.828      0.408      -0.109       0.268\n",
       "V20           -0.4510      0.081     -5.541      0.000      -0.611      -0.291\n",
       "V21            0.3730      0.058      6.416      0.000       0.259       0.487\n",
       "V22            0.5874      0.129      4.566      0.000       0.335       0.840\n",
       "V23           -0.0975      0.058     -1.681      0.093      -0.211       0.016\n",
       "V24            0.1278      0.149      0.856      0.392      -0.165       0.421\n",
       "V25           -0.0180      0.131     -0.137      0.891      -0.275       0.239\n",
       "V26           -0.0131      0.190     -0.069      0.945      -0.385       0.359\n",
       "V27           -0.8134      0.122     -6.658      0.000      -1.053      -0.574\n",
       "V28           -0.2979      0.089     -3.343      0.001      -0.473      -0.123\n",
       "Amount         0.0009      0.000      2.465      0.014       0.000       0.002\n",
       "==============================================================================\n",
       "\n",
       "Possibly complete quasi-separation: A fraction 0.31 of observations can be\n",
       "perfectly predicted. This might indicate that there is complete\n",
       "quasi-separation. In this case some parameters will not be identified.\n",
       "\"\"\""
      ]
     },
     "execution_count": 25,
     "metadata": {},
     "output_type": "execute_result"
    }
   ],
   "source": [
    "result_log.summary()"
   ]
  },
  {
   "cell_type": "code",
   "execution_count": 26,
   "metadata": {},
   "outputs": [
    {
     "name": "stderr",
     "output_type": "stream",
     "text": [
      "C:\\Users\\PC\\AppData\\Local\\Programs\\Python\\Python310\\lib\\site-packages\\statsmodels\\discrete\\discrete_model.py:1819: RuntimeWarning: overflow encountered in exp\n",
      "  return 1/(1+np.exp(-X))\n",
      "C:\\Users\\PC\\AppData\\Local\\Programs\\Python\\Python310\\lib\\site-packages\\statsmodels\\discrete\\discrete_model.py:1872: RuntimeWarning: divide by zero encountered in log\n",
      "  return np.sum(np.log(self.cdf(q*np.dot(X,params))))\n"
     ]
    }
   ],
   "source": [
    "def back_feature_elem(data_frame, dep_var, col_list):\n",
    "    while len(col_list) > 0:\n",
    "        model = sm.Logit(dep_var, data_frame[col_list])\n",
    "        result = model.fit(disp=0)\n",
    "        largest_pvalue = round(result.pvalues, 3).nlargest(1)\n",
    "        if largest_pvalue[0] < 0.0001:\n",
    "            return result\n",
    "        else:\n",
    "            col_list = col_list.drop(largest_pvalue.index)\n",
    "result = back_feature_elem(X, card.Class, col)"
   ]
  },
  {
   "cell_type": "code",
   "execution_count": 27,
   "metadata": {},
   "outputs": [
    {
     "name": "stderr",
     "output_type": "stream",
     "text": [
      "C:\\Users\\PC\\AppData\\Local\\Programs\\Python\\Python310\\lib\\site-packages\\statsmodels\\discrete\\discrete_model.py:1819: RuntimeWarning: overflow encountered in exp\n",
      "  return 1/(1+np.exp(-X))\n",
      "C:\\Users\\PC\\AppData\\Local\\Programs\\Python\\Python310\\lib\\site-packages\\statsmodels\\discrete\\discrete_model.py:1872: RuntimeWarning: divide by zero encountered in log\n",
      "  return np.sum(np.log(self.cdf(q*np.dot(X,params))))\n"
     ]
    },
    {
     "data": {
      "text/html": [
       "<table class=\"simpletable\">\n",
       "<caption>Logit Regression Results</caption>\n",
       "<tr>\n",
       "  <th>Dep. Variable:</th>         <td>Class</td>      <th>  No. Observations:  </th>  <td>283726</td> \n",
       "</tr>\n",
       "<tr>\n",
       "  <th>Model:</th>                 <td>Logit</td>      <th>  Df Residuals:      </th>  <td>283698</td> \n",
       "</tr>\n",
       "<tr>\n",
       "  <th>Method:</th>                 <td>MLE</td>       <th>  Df Model:          </th>  <td>    27</td> \n",
       "</tr>\n",
       "<tr>\n",
       "  <th>Date:</th>            <td>Wed, 19 Jan 2022</td> <th>  Pseudo R-squ.:     </th>  <td>  -inf</td> \n",
       "</tr>\n",
       "<tr>\n",
       "  <th>Time:</th>                <td>19:14:03</td>     <th>  Log-Likelihood:    </th> <td>    -inf</td>\n",
       "</tr>\n",
       "<tr>\n",
       "  <th>converged:</th>             <td>True</td>       <th>  LL-Null:           </th> <td> -3498.2</td>\n",
       "</tr>\n",
       "<tr>\n",
       "  <th>Covariance Type:</th>     <td>nonrobust</td>    <th>  LLR p-value:       </th>  <td> 1.000</td> \n",
       "</tr>\n",
       "</table>\n",
       "<table class=\"simpletable\">\n",
       "<tr>\n",
       "   <td></td>      <th>coef</th>     <th>std err</th>      <th>z</th>      <th>P>|z|</th>  <th>[0.025</th>    <th>0.975]</th>  \n",
       "</tr>\n",
       "<tr>\n",
       "  <th>V1</th>  <td>   -3.8503</td> <td>    0.012</td> <td> -314.625</td> <td> 0.000</td> <td>   -3.874</td> <td>   -3.826</td>\n",
       "</tr>\n",
       "<tr>\n",
       "  <th>V2</th>  <td>    3.8048</td> <td>    0.012</td> <td>  310.135</td> <td> 0.000</td> <td>    3.781</td> <td>    3.829</td>\n",
       "</tr>\n",
       "<tr>\n",
       "  <th>V3</th>  <td>   -8.5616</td> <td>    0.027</td> <td> -319.025</td> <td> 0.000</td> <td>   -8.614</td> <td>   -8.509</td>\n",
       "</tr>\n",
       "<tr>\n",
       "  <th>V4</th>  <td>    5.0462</td> <td>    0.016</td> <td>  313.283</td> <td> 0.000</td> <td>    5.015</td> <td>    5.078</td>\n",
       "</tr>\n",
       "<tr>\n",
       "  <th>V5</th>  <td>   -5.9105</td> <td>    0.019</td> <td> -314.060</td> <td> 0.000</td> <td>   -5.947</td> <td>   -5.874</td>\n",
       "</tr>\n",
       "<tr>\n",
       "  <th>V6</th>  <td>   -2.0187</td> <td>    0.007</td> <td> -271.803</td> <td> 0.000</td> <td>   -2.033</td> <td>   -2.004</td>\n",
       "</tr>\n",
       "<tr>\n",
       "  <th>V7</th>  <td>  -11.1402</td> <td>    0.035</td> <td> -318.515</td> <td> 0.000</td> <td>  -11.209</td> <td>  -11.072</td>\n",
       "</tr>\n",
       "<tr>\n",
       "  <th>V8</th>  <td>    2.6585</td> <td>    0.009</td> <td>  284.651</td> <td> 0.000</td> <td>    2.640</td> <td>    2.677</td>\n",
       "</tr>\n",
       "<tr>\n",
       "  <th>V9</th>  <td>   -5.4890</td> <td>    0.018</td> <td> -309.594</td> <td> 0.000</td> <td>   -5.524</td> <td>   -5.454</td>\n",
       "</tr>\n",
       "<tr>\n",
       "  <th>V10</th> <td>  -12.7321</td> <td>    0.040</td> <td> -318.828</td> <td> 0.000</td> <td>  -12.810</td> <td>  -12.654</td>\n",
       "</tr>\n",
       "<tr>\n",
       "  <th>V11</th> <td>    8.9049</td> <td>    0.028</td> <td>  316.080</td> <td> 0.000</td> <td>    8.850</td> <td>    8.960</td>\n",
       "</tr>\n",
       "<tr>\n",
       "  <th>V12</th> <td>  -16.0526</td> <td>    0.050</td> <td> -319.507</td> <td> 0.000</td> <td>  -16.151</td> <td>  -15.954</td>\n",
       "</tr>\n",
       "<tr>\n",
       "  <th>V13</th> <td>    0.1949</td> <td>    0.005</td> <td>   37.561</td> <td> 0.000</td> <td>    0.185</td> <td>    0.205</td>\n",
       "</tr>\n",
       "<tr>\n",
       "  <th>V14</th> <td>  -16.6006</td> <td>    0.052</td> <td> -319.557</td> <td> 0.000</td> <td>  -16.702</td> <td>  -16.499</td>\n",
       "</tr>\n",
       "<tr>\n",
       "  <th>V15</th> <td>   -0.3622</td> <td>    0.006</td> <td>  -63.189</td> <td> 0.000</td> <td>   -0.373</td> <td>   -0.351</td>\n",
       "</tr>\n",
       "<tr>\n",
       "  <th>V16</th> <td>  -15.1065</td> <td>    0.047</td> <td> -318.684</td> <td> 0.000</td> <td>  -15.199</td> <td>  -15.014</td>\n",
       "</tr>\n",
       "<tr>\n",
       "  <th>V17</th> <td>  -27.3943</td> <td>    0.086</td> <td> -320.370</td> <td> 0.000</td> <td>  -27.562</td> <td>  -27.227</td>\n",
       "</tr>\n",
       "<tr>\n",
       "  <th>V18</th> <td>  -10.1986</td> <td>    0.032</td> <td> -315.451</td> <td> 0.000</td> <td>  -10.262</td> <td>  -10.135</td>\n",
       "</tr>\n",
       "<tr>\n",
       "  <th>V19</th> <td>    3.3170</td> <td>    0.012</td> <td>  273.860</td> <td> 0.000</td> <td>    3.293</td> <td>    3.341</td>\n",
       "</tr>\n",
       "<tr>\n",
       "  <th>V20</th> <td>    2.0012</td> <td>    0.009</td> <td>  210.708</td> <td> 0.000</td> <td>    1.983</td> <td>    2.020</td>\n",
       "</tr>\n",
       "<tr>\n",
       "  <th>V21</th> <td>    2.2942</td> <td>    0.010</td> <td>  231.734</td> <td> 0.000</td> <td>    2.275</td> <td>    2.314</td>\n",
       "</tr>\n",
       "<tr>\n",
       "  <th>V22</th> <td>    0.1861</td> <td>    0.007</td> <td>   25.998</td> <td> 0.000</td> <td>    0.172</td> <td>    0.200</td>\n",
       "</tr>\n",
       "<tr>\n",
       "  <th>V23</th> <td>   -0.2017</td> <td>    0.009</td> <td>  -21.842</td> <td> 0.000</td> <td>   -0.220</td> <td>   -0.184</td>\n",
       "</tr>\n",
       "<tr>\n",
       "  <th>V24</th> <td>   -0.1602</td> <td>    0.008</td> <td>  -18.862</td> <td> 0.000</td> <td>   -0.177</td> <td>   -0.144</td>\n",
       "</tr>\n",
       "<tr>\n",
       "  <th>V25</th> <td>    0.6242</td> <td>    0.011</td> <td>   59.429</td> <td> 0.000</td> <td>    0.604</td> <td>    0.645</td>\n",
       "</tr>\n",
       "<tr>\n",
       "  <th>V26</th> <td>    0.2029</td> <td>    0.011</td> <td>   18.870</td> <td> 0.000</td> <td>    0.182</td> <td>    0.224</td>\n",
       "</tr>\n",
       "<tr>\n",
       "  <th>V27</th> <td>    2.5322</td> <td>    0.016</td> <td>  156.071</td> <td> 0.000</td> <td>    2.500</td> <td>    2.564</td>\n",
       "</tr>\n",
       "<tr>\n",
       "  <th>V28</th> <td>    1.1545</td> <td>    0.016</td> <td>   74.214</td> <td> 0.000</td> <td>    1.124</td> <td>    1.185</td>\n",
       "</tr>\n",
       "</table>"
      ],
      "text/plain": [
       "<class 'statsmodels.iolib.summary.Summary'>\n",
       "\"\"\"\n",
       "                           Logit Regression Results                           \n",
       "==============================================================================\n",
       "Dep. Variable:                  Class   No. Observations:               283726\n",
       "Model:                          Logit   Df Residuals:                   283698\n",
       "Method:                           MLE   Df Model:                           27\n",
       "Date:                Wed, 19 Jan 2022   Pseudo R-squ.:                    -inf\n",
       "Time:                        19:14:03   Log-Likelihood:                   -inf\n",
       "converged:                       True   LL-Null:                       -3498.2\n",
       "Covariance Type:            nonrobust   LLR p-value:                     1.000\n",
       "==============================================================================\n",
       "                 coef    std err          z      P>|z|      [0.025      0.975]\n",
       "------------------------------------------------------------------------------\n",
       "V1            -3.8503      0.012   -314.625      0.000      -3.874      -3.826\n",
       "V2             3.8048      0.012    310.135      0.000       3.781       3.829\n",
       "V3            -8.5616      0.027   -319.025      0.000      -8.614      -8.509\n",
       "V4             5.0462      0.016    313.283      0.000       5.015       5.078\n",
       "V5            -5.9105      0.019   -314.060      0.000      -5.947      -5.874\n",
       "V6            -2.0187      0.007   -271.803      0.000      -2.033      -2.004\n",
       "V7           -11.1402      0.035   -318.515      0.000     -11.209     -11.072\n",
       "V8             2.6585      0.009    284.651      0.000       2.640       2.677\n",
       "V9            -5.4890      0.018   -309.594      0.000      -5.524      -5.454\n",
       "V10          -12.7321      0.040   -318.828      0.000     -12.810     -12.654\n",
       "V11            8.9049      0.028    316.080      0.000       8.850       8.960\n",
       "V12          -16.0526      0.050   -319.507      0.000     -16.151     -15.954\n",
       "V13            0.1949      0.005     37.561      0.000       0.185       0.205\n",
       "V14          -16.6006      0.052   -319.557      0.000     -16.702     -16.499\n",
       "V15           -0.3622      0.006    -63.189      0.000      -0.373      -0.351\n",
       "V16          -15.1065      0.047   -318.684      0.000     -15.199     -15.014\n",
       "V17          -27.3943      0.086   -320.370      0.000     -27.562     -27.227\n",
       "V18          -10.1986      0.032   -315.451      0.000     -10.262     -10.135\n",
       "V19            3.3170      0.012    273.860      0.000       3.293       3.341\n",
       "V20            2.0012      0.009    210.708      0.000       1.983       2.020\n",
       "V21            2.2942      0.010    231.734      0.000       2.275       2.314\n",
       "V22            0.1861      0.007     25.998      0.000       0.172       0.200\n",
       "V23           -0.2017      0.009    -21.842      0.000      -0.220      -0.184\n",
       "V24           -0.1602      0.008    -18.862      0.000      -0.177      -0.144\n",
       "V25            0.6242      0.011     59.429      0.000       0.604       0.645\n",
       "V26            0.2029      0.011     18.870      0.000       0.182       0.224\n",
       "V27            2.5322      0.016    156.071      0.000       2.500       2.564\n",
       "V28            1.1545      0.016     74.214      0.000       1.124       1.185\n",
       "==============================================================================\n",
       "\"\"\""
      ]
     },
     "execution_count": 27,
     "metadata": {},
     "output_type": "execute_result"
    }
   ],
   "source": [
    "result.summary()"
   ]
  },
  {
   "cell_type": "code",
   "execution_count": 30,
   "metadata": {},
   "outputs": [],
   "source": [
    "new_feature = card[['V1','V2','V3','V4','V5', 'V6','V7','V8','V9','V10',\n",
    "        'V11', 'V12','V13','V14','V15','V16','V17','V18','V19',\n",
    "        'V20','V21','V22','V23','V24','V25','V26','V27','Class']]\n",
    "x = new_feature.iloc[:, :-1]\n",
    "y = new_feature.iloc[:, -1]\n",
    "\n",
    "from sklearn.model_selection import train_test_split\n",
    "x_train, x_test, y_train, y_test = train_test_split(x, y, test_size=0.2, random_state=40)"
   ]
  },
  {
   "cell_type": "code",
   "execution_count": 33,
   "metadata": {},
   "outputs": [
    {
     "data": {
      "text/plain": [
       "56746"
      ]
     },
     "execution_count": 33,
     "metadata": {},
     "output_type": "execute_result"
    }
   ],
   "source": [
    "len(x_test)"
   ]
  },
  {
   "cell_type": "code",
   "execution_count": 31,
   "metadata": {},
   "outputs": [
    {
     "data": {
      "text/plain": [
       "array([0, 0, 0, ..., 0, 0, 0], dtype=int64)"
      ]
     },
     "execution_count": 31,
     "metadata": {},
     "output_type": "execute_result"
    }
   ],
   "source": [
    "from sklearn.linear_model import LogisticRegression\n",
    "logreg = LogisticRegression()\n",
    "logreg.fit(x_train, y_train)\n",
    "y_pred = logreg.predict(x_test)\n",
    "y_pred"
   ]
  },
  {
   "cell_type": "markdown",
   "metadata": {},
   "source": [
    "<h3>Model Evaluation"
   ]
  },
  {
   "cell_type": "code",
   "execution_count": 32,
   "metadata": {},
   "outputs": [
    {
     "name": "stdout",
     "output_type": "stream",
     "text": [
      "              precision    recall  f1-score   support\n",
      "\n",
      "           0       1.00      1.00      1.00     56653\n",
      "           1       0.79      0.73      0.76        93\n",
      "\n",
      "    accuracy                           1.00     56746\n",
      "   macro avg       0.90      0.87      0.88     56746\n",
      "weighted avg       1.00      1.00      1.00     56746\n",
      "\n"
     ]
    }
   ],
   "source": [
    "from sklearn.metrics import classification_report\n",
    "print(classification_report(y_test, y_pred))"
   ]
  },
  {
   "cell_type": "code",
   "execution_count": 40,
   "metadata": {},
   "outputs": [
    {
     "name": "stderr",
     "output_type": "stream",
     "text": [
      "C:\\Users\\PC\\AppData\\Local\\Programs\\Python\\Python310\\lib\\site-packages\\sklearn\\base.py:450: UserWarning: X does not have valid feature names, but LogisticRegression was fitted with feature names\n",
      "  warnings.warn(\n"
     ]
    },
    {
     "data": {
      "text/plain": [
       "1"
      ]
     },
     "execution_count": 40,
     "metadata": {},
     "output_type": "execute_result"
    }
   ],
   "source": [
    "x_1 = [[-0.0676716213886392,4.25118050159519,-6.54038835224963,7.28365703710757,0.513540870943284,-2.63506638788364,-1.86591081008961,0.780271626602801,-3.86824834701295,-4.85148719411703,3.87116530391397,-6.88763735718558,-1.7905001483675,-11.2723158701978,1.30136314876439,-1.68983647758912,-0.0529325394075147,0.778734824784494,0.242162496030838,0.519403972453402,0.415436545379518,-0.469937601482284,0.00712804040849194,-0.388147290740708,-0.493397940502339,0.466467724945289,0.566369687106408]]\n",
    "y_pred1 = logreg.predict(x_1)\n",
    "y_pred1[0]"
   ]
  }
 ],
 "metadata": {
  "interpreter": {
   "hash": "8ed06d07b9ff369db6ed7b53447be18709da67cd911d838d72fee7fecb26667a"
  },
  "kernelspec": {
   "display_name": "Python 3.10.1 64-bit",
   "language": "python",
   "name": "python3"
  },
  "language_info": {
   "codemirror_mode": {
    "name": "ipython",
    "version": 3
   },
   "file_extension": ".py",
   "mimetype": "text/x-python",
   "name": "python",
   "nbconvert_exporter": "python",
   "pygments_lexer": "ipython3",
   "version": "3.10.1"
  },
  "orig_nbformat": 4
 },
 "nbformat": 4,
 "nbformat_minor": 2
}
